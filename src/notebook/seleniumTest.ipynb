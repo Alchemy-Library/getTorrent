{
 "cells": [
  {
   "cell_type": "code",
   "execution_count": null,
   "id": "6730940f-b491-40f8-9b6a-aa1fd67d916f",
   "metadata": {},
   "outputs": [],
   "source": [
    "!pip3 install selenium"
   ]
  },
  {
   "cell_type": "code",
   "execution_count": 74,
   "id": "7eb33710-21b3-42fe-bc5a-1b0bb61a796e",
   "metadata": {},
   "outputs": [
    {
     "name": "stdout",
     "output_type": "stream",
     "text": [
      "Hello\n",
      "['https://www.torrentdownloads.pro/torrent/1702365555/Kotlin-Android-Training---Beginner-Android-App-Development', 'https://www.torrentdownloads.pro/torrent/1702744769/Android-App-Development-Course-with-Kotlin-Android-A-Z', 'https://www.torrentdownloads.pro/torrent/1703062299/%5B-DevCourseWeb--%5D-Udemy---Tic-Tac-Toe-Game-in-Kotlin%2C-Android-app-development-Studio', 'https://www.torrentdownloads.pro/torrent/1664596545/Kotlin-%26-Android-App-Development-Mastery-21-hours%2B-%263Apps', 'https://www.torrentdownloads.pro/torrent/1702782573/Kotlin-Android-Development-Masterclass', 'https://www.torrentdownloads.pro/torrent/1666577113/%5BUdemyCourseDownloader%5D-Your-First-Kotlin-Android-App', 'https://www.torrentdownloads.pro/torrent/1704204666/Forrester-A-How-to-Build-Android-Apps-with-Kotlin-2ed-2023', 'https://www.torrentdownloads.pro/torrent/1704335286/%5B-DevCourseWeb--%5D-Udemy---Master-Android-By-Building-3-Applications-In-Kotlin-Language', 'https://www.torrentdownloads.pro/torrent/1704234706/Smyth-N-Android-Studio-Flamingo-Essentials-Kotlin-Edition-2023', 'https://www.torrentdownloads.pro/torrent/1704282288/%5B-DevCourseWeb--%5D-Udemy---Android-Jetpack-Compose-with-Retrofit-Room-Hilt-in-Kotlin', 'https://www.torrentdownloads.pro/torrent/1701568757/Learn-Kotlin-Java%2C-Develop-Android-App-Development-Kotlin', 'https://www.torrentdownloads.pro/torrent/1702627576/%5B-DevCourseWeb--%5D-Udemy---Kotlin-For-Android-Development---Learn-Kotlin-From-Scratch', 'https://www.torrentdownloads.pro/torrent/1666543593/%5BFTUForum-%5D-%5BUDEMY%5D-Kotlin-for-Android-Development-Develop-an-App-with-Kotlin-%5BFTU%5D', 'https://www.torrentdownloads.pro/torrent/1668101203/%5B-FreeCourseWeb--%5D-Udemy---Kotlin-for-Beginners--The-Complete-Android-Kotlin-Developer-zip', 'https://www.torrentdownloads.pro/torrent/1668514717/%5B-FreeCourseWeb--%5D-Udemy---Kotlin-for-Beginners---The-Complete-Android-Kotlin-Developers-zip', 'https://www.torrentdownloads.pro/torrent/1700560616/%5B-FreeCourseWeb--%5D-Android-Programming-with-Kotlin-for-Professionals---guide-to-kotlin-programming-notes-for-Professionals-step-by-step', 'https://www.torrentdownloads.pro/torrent/1671309852/Learn-Android-Studio-3-with-Kotlin-Efficient-Android-App-Development', 'https://www.torrentdownloads.pro/torrent/1666635034/Learn-Kotlin-for-Android-Development-The-Next-Generation-Language-For-Modern-Android-Apps-Programming', 'https://www.torrentdownloads.pro/torrent/1701317689/Kotlin-and-Android-Development-featuring-Jetpack---Build-Better%2C-Safer-Android-Apps', 'https://www.torrentdownloads.pro/torrent/1704053321/Android-App-Development-with-Kotlin-Bootcamp-Android-13%2B', 'https://www.torrentdownloads.pro/torrent/1669344881/Kotlin-for-Android-%26-Java-Developers-Clean-Code-on-Android', 'https://www.torrentdownloads.pro/torrent/1666999681/%5BFreeCoursesOnline-Me%5D-%5BPackt%5D-The-7-Day-Android-App-Bootcamp---Android-Pie-and-Kotlin-%5BFCO%5D', 'https://www.torrentdownloads.pro/torrent/1701862402/%5B-CourseBoat--%5D-Udemy---Android-App-Development-with-Kotlin-Intermediate-Android', 'https://www.torrentdownloads.pro/torrent/1701569091/Android-App-Development-Course-with-Kotlin-%26-Java-Android', 'https://www.torrentdownloads.pro/torrent/1702081462/%5B-DevCourseWeb--%5D-Android-Programming-with-Kotlin-for-Beginners---Build-Android-Apps-Starting-From-Zero-Programming-Experience-with-%28true-EPUB%29', 'https://www.torrentdownloads.pro/torrent/1664698830/Android-Kotlin-Development-Masterclass-using-Android-Oreo', 'https://www.torrentdownloads.pro/torrent/1665019641/%5BDesireCourse-Com%5D-Udemy---Android-Kotlin-Development-Masterclass-using-Android-Oreo', 'https://www.torrentdownloads.pro/torrent/1666376085/%5BUdemyCourseDownloader%5D-Kotlin-for-Android-%26-Java-Developers-Clean-Code-on-Android', 'https://www.torrentdownloads.pro/torrent/1703177379/Smyth-N-Android-Studio-Bumble-Bee-Essentials-Kotlin-Edition-2022', 'https://www.torrentdownloads.pro/torrent/1703600378/Kickstart-Modern-Android-Development-With-Jetpack-And-Kotlin---Enhance-Your-Applications-By-Integrating', 'https://www.torrentdownloads.pro/torrent/1703800056/Kumar-P-Building-Android-Projects-with-Kotlin-2023', 'https://www.torrentdownloads.pro/torrent/1703170140/Hawke-A-Learn-Android-Programming-How-to-build-Kotlin-2022', 'https://www.torrentdownloads.pro/torrent/1701629549/Android-App-Development-Masterclass-using-Kotlin', 'https://www.torrentdownloads.pro/torrent/1704101145/Mastering-Android-App-Development-with-Kotlin--Build-38-Apps', 'https://www.torrentdownloads.pro/torrent/1701792987/How-To-Build-Android-Apps-With-Kotlin---Developing-Testing-And-Publishing-Your-First-Apps', 'https://www.torrentdownloads.pro/torrent/1703591988/Guo-L-The-First-Line-of-Code-Android-Programming-Kotlin-2022', 'https://www.torrentdownloads.pro/torrent/1703786417/Costeira-R-Real-World-Android-by-Tutorials-Kotlin-2ed-2022', 'https://www.torrentdownloads.pro/torrent/1691282316/Google-Maps-SDK-for-Android-with-Kotlin-Masterclass', 'https://www.torrentdownloads.pro/torrent/1668497106/Packt-Android-Programming-With-Kotlin-For-Beginners-2019-RETAiL-ePub-eBook-LiBRiCiDE', 'https://www.torrentdownloads.pro/torrent/1703771149/%5B-DevCourseWeb--%5D-Udemy---The-Complete-Android-Animations-Course-With-Kotlin', 'https://www.torrentdownloads.pro/torrent/1664996791/Android-E-Commerce-App-using-Kotlin%2C-PHP-and-Paypal-API', 'https://www.torrentdownloads.pro/torrent/1669275489/Modern-Android-app-using-Kotlin%2C-MVVM%2C-Dagger2%2C-RxJava-%26more', 'https://www.torrentdownloads.pro/torrent/1669345271/To-Do-App-%26-Clean-Architecture---Android-Development---Kotlin', 'https://www.torrentdownloads.pro/torrent/1690715883/DesignOptimal----CodeCanyon---ProShop-v12-0---WooCommerce-Multipurpose-E-merce-Android-Full-Mobile-App-%2B-kotlin---27338838-zip', 'https://www.torrentdownloads.pro/torrent/1704045161/Smyth-N-Android-Studio-Electric-Eel-Essentials-Kotlin-Edition-2023', 'https://www.torrentdownloads.pro/torrent/1691823910/The-Complete-Android-Kotlin-Developer-Course', 'https://www.torrentdownloads.pro/torrent/1664796994/The-Complete-Android-Kotlin-Developer-Course', 'https://www.torrentdownloads.pro/torrent/1668548589/%5BUdemy%5D---Android-%C3%91%E2%82%AC%C3%90%C2%B0%C3%90%C2%B7%C3%91%E2%82%AC%C3%90%C2%B0%C3%90%C2%B1%C3%90%C2%BE%C3%91%E2%80%9A%C3%90%C2%BA%C3%90%C2%B0-%C3%90%C2%BD%C3%90%C2%B0-Kotlin---%C3%91%C2%81-%C3%90%C2%BD%C3%91%C6%92%C3%90%C2%BB%C3%91%C2%8F-%C3%90%C2%B4%C3%90%C2%BE-%C3%90%C2%BF%C3%91%E2%82%AC%C3%90%C2%BE%C3%90%C2%B4%C3%90%C2%B2%C3%90%C2%B8%C3%90%C2%BD%C3%91%C6%92%C3%91%E2%80%9A%C3%90%C2%BE%C3%90%C2%B3%C3%90%C2%BE-%C3%91%C6%92%C3%91%E2%82%AC%C3%90%C2%BE%C3%90%C2%B2%C3%90%C2%BD%C3%91%C2%8F', 'https://www.torrentdownloads.pro/torrent/1666871297/%5BFreeCourseLab-%5D-Udemy---Android-Q-App-Development-with-Kotlin-Beginner-to-Advanced', 'https://www.torrentdownloads.pro/torrent/1669252864/Complete-Android-Development-with-Kotlin-Masterclass-%5BUdemyLibrary-%5D']\n"
     ]
    }
   ],
   "source": [
    "import time\n",
    "from selenium import webdriver\n",
    "from selenium.webdriver.common.by import By\n",
    "from selenium.webdriver.common.keys import Keys\n",
    "\n",
    "driver = webdriver.Chrome()\n",
    "\n",
    "\n",
    "def openPage(page, sleep=3):\n",
    "    driver.get(page)\n",
    "    time.sleep(sleep)\n",
    "\n",
    "def getRow():\n",
    "    skip = 6\n",
    "    rows = driver.find_elements(By.CLASS_NAME, \"grey_bar3\")\n",
    "    return rows[skip: -1]\n",
    "    return rows\n",
    "\n",
    "def searchTorrents():\n",
    "    sch = \"https://www.torrentdownloads.pro/search/?search=kotlin+android\"\n",
    "    openPage(sch, 3)\n",
    "    \n",
    "    torrent = []\n",
    "    for i, v in enumerate(getRow()):\n",
    "        a = v.find_elements(By.TAG_NAME, \"a\")\n",
    "        torrent.append(a[0].get_attribute('href'))\n",
    "    return torrent\n",
    "\n",
    "def openTorrentPage(pages):\n",
    "    for i in pages:\n",
    "        openPage(i,2)\n",
    "        print(f\"{i} opened\")\n",
    "        if i > 5:\n",
    "            break\n",
    "\n",
    "pages = searchTorrents()\n",
    "print(\"Hello\")\n",
    "print(pages)"
   ]
  },
  {
   "cell_type": "code",
   "execution_count": 73,
   "id": "07d9cbbc-f9bc-46f4-889c-4b90e21ec034",
   "metadata": {},
   "outputs": [
    {
     "name": "stdout",
     "output_type": "stream",
     "text": [
      "Hello\n",
      "['https://www.torrentdownloads.pro/torrent/1702365555/Kotlin-Android-Training---Beginner-Android-App-Development', 'https://www.torrentdownloads.pro/torrent/1702744769/Android-App-Development-Course-with-Kotlin-Android-A-Z', 'https://www.torrentdownloads.pro/torrent/1703062299/%5B-DevCourseWeb--%5D-Udemy---Tic-Tac-Toe-Game-in-Kotlin%2C-Android-app-development-Studio', 'https://www.torrentdownloads.pro/torrent/1664596545/Kotlin-%26-Android-App-Development-Mastery-21-hours%2B-%263Apps', 'https://www.torrentdownloads.pro/torrent/1702782573/Kotlin-Android-Development-Masterclass', 'https://www.torrentdownloads.pro/torrent/1666577113/%5BUdemyCourseDownloader%5D-Your-First-Kotlin-Android-App', 'https://www.torrentdownloads.pro/torrent/1704204666/Forrester-A-How-to-Build-Android-Apps-with-Kotlin-2ed-2023', 'https://www.torrentdownloads.pro/torrent/1704335286/%5B-DevCourseWeb--%5D-Udemy---Master-Android-By-Building-3-Applications-In-Kotlin-Language', 'https://www.torrentdownloads.pro/torrent/1704234706/Smyth-N-Android-Studio-Flamingo-Essentials-Kotlin-Edition-2023', 'https://www.torrentdownloads.pro/torrent/1704282288/%5B-DevCourseWeb--%5D-Udemy---Android-Jetpack-Compose-with-Retrofit-Room-Hilt-in-Kotlin', 'https://www.torrentdownloads.pro/torrent/1701568757/Learn-Kotlin-Java%2C-Develop-Android-App-Development-Kotlin', 'https://www.torrentdownloads.pro/torrent/1702627576/%5B-DevCourseWeb--%5D-Udemy---Kotlin-For-Android-Development---Learn-Kotlin-From-Scratch', 'https://www.torrentdownloads.pro/torrent/1666543593/%5BFTUForum-%5D-%5BUDEMY%5D-Kotlin-for-Android-Development-Develop-an-App-with-Kotlin-%5BFTU%5D', 'https://www.torrentdownloads.pro/torrent/1668101203/%5B-FreeCourseWeb--%5D-Udemy---Kotlin-for-Beginners--The-Complete-Android-Kotlin-Developer-zip', 'https://www.torrentdownloads.pro/torrent/1668514717/%5B-FreeCourseWeb--%5D-Udemy---Kotlin-for-Beginners---The-Complete-Android-Kotlin-Developers-zip', 'https://www.torrentdownloads.pro/torrent/1700560616/%5B-FreeCourseWeb--%5D-Android-Programming-with-Kotlin-for-Professionals---guide-to-kotlin-programming-notes-for-Professionals-step-by-step', 'https://www.torrentdownloads.pro/torrent/1671309852/Learn-Android-Studio-3-with-Kotlin-Efficient-Android-App-Development', 'https://www.torrentdownloads.pro/torrent/1666635034/Learn-Kotlin-for-Android-Development-The-Next-Generation-Language-For-Modern-Android-Apps-Programming', 'https://www.torrentdownloads.pro/torrent/1701317689/Kotlin-and-Android-Development-featuring-Jetpack---Build-Better%2C-Safer-Android-Apps', 'https://www.torrentdownloads.pro/torrent/1704053321/Android-App-Development-with-Kotlin-Bootcamp-Android-13%2B', 'https://www.torrentdownloads.pro/torrent/1669344881/Kotlin-for-Android-%26-Java-Developers-Clean-Code-on-Android', 'https://www.torrentdownloads.pro/torrent/1666999681/%5BFreeCoursesOnline-Me%5D-%5BPackt%5D-The-7-Day-Android-App-Bootcamp---Android-Pie-and-Kotlin-%5BFCO%5D', 'https://www.torrentdownloads.pro/torrent/1701862402/%5B-CourseBoat--%5D-Udemy---Android-App-Development-with-Kotlin-Intermediate-Android', 'https://www.torrentdownloads.pro/torrent/1701569091/Android-App-Development-Course-with-Kotlin-%26-Java-Android', 'https://www.torrentdownloads.pro/torrent/1702081462/%5B-DevCourseWeb--%5D-Android-Programming-with-Kotlin-for-Beginners---Build-Android-Apps-Starting-From-Zero-Programming-Experience-with-%28true-EPUB%29', 'https://www.torrentdownloads.pro/torrent/1664698830/Android-Kotlin-Development-Masterclass-using-Android-Oreo', 'https://www.torrentdownloads.pro/torrent/1665019641/%5BDesireCourse-Com%5D-Udemy---Android-Kotlin-Development-Masterclass-using-Android-Oreo', 'https://www.torrentdownloads.pro/torrent/1666376085/%5BUdemyCourseDownloader%5D-Kotlin-for-Android-%26-Java-Developers-Clean-Code-on-Android', 'https://www.torrentdownloads.pro/torrent/1703177379/Smyth-N-Android-Studio-Bumble-Bee-Essentials-Kotlin-Edition-2022', 'https://www.torrentdownloads.pro/torrent/1703600378/Kickstart-Modern-Android-Development-With-Jetpack-And-Kotlin---Enhance-Your-Applications-By-Integrating', 'https://www.torrentdownloads.pro/torrent/1703800056/Kumar-P-Building-Android-Projects-with-Kotlin-2023', 'https://www.torrentdownloads.pro/torrent/1703170140/Hawke-A-Learn-Android-Programming-How-to-build-Kotlin-2022', 'https://www.torrentdownloads.pro/torrent/1701629549/Android-App-Development-Masterclass-using-Kotlin', 'https://www.torrentdownloads.pro/torrent/1704101145/Mastering-Android-App-Development-with-Kotlin--Build-38-Apps', 'https://www.torrentdownloads.pro/torrent/1701792987/How-To-Build-Android-Apps-With-Kotlin---Developing-Testing-And-Publishing-Your-First-Apps', 'https://www.torrentdownloads.pro/torrent/1703591988/Guo-L-The-First-Line-of-Code-Android-Programming-Kotlin-2022', 'https://www.torrentdownloads.pro/torrent/1703786417/Costeira-R-Real-World-Android-by-Tutorials-Kotlin-2ed-2022', 'https://www.torrentdownloads.pro/torrent/1691282316/Google-Maps-SDK-for-Android-with-Kotlin-Masterclass', 'https://www.torrentdownloads.pro/torrent/1668497106/Packt-Android-Programming-With-Kotlin-For-Beginners-2019-RETAiL-ePub-eBook-LiBRiCiDE', 'https://www.torrentdownloads.pro/torrent/1703771149/%5B-DevCourseWeb--%5D-Udemy---The-Complete-Android-Animations-Course-With-Kotlin', 'https://www.torrentdownloads.pro/torrent/1664996791/Android-E-Commerce-App-using-Kotlin%2C-PHP-and-Paypal-API', 'https://www.torrentdownloads.pro/torrent/1669275489/Modern-Android-app-using-Kotlin%2C-MVVM%2C-Dagger2%2C-RxJava-%26more', 'https://www.torrentdownloads.pro/torrent/1669345271/To-Do-App-%26-Clean-Architecture---Android-Development---Kotlin', 'https://www.torrentdownloads.pro/torrent/1690715883/DesignOptimal----CodeCanyon---ProShop-v12-0---WooCommerce-Multipurpose-E-merce-Android-Full-Mobile-App-%2B-kotlin---27338838-zip', 'https://www.torrentdownloads.pro/torrent/1704045161/Smyth-N-Android-Studio-Electric-Eel-Essentials-Kotlin-Edition-2023', 'https://www.torrentdownloads.pro/torrent/1691823910/The-Complete-Android-Kotlin-Developer-Course', 'https://www.torrentdownloads.pro/torrent/1664796994/The-Complete-Android-Kotlin-Developer-Course', 'https://www.torrentdownloads.pro/torrent/1668548589/%5BUdemy%5D---Android-%C3%91%E2%82%AC%C3%90%C2%B0%C3%90%C2%B7%C3%91%E2%82%AC%C3%90%C2%B0%C3%90%C2%B1%C3%90%C2%BE%C3%91%E2%80%9A%C3%90%C2%BA%C3%90%C2%B0-%C3%90%C2%BD%C3%90%C2%B0-Kotlin---%C3%91%C2%81-%C3%90%C2%BD%C3%91%C6%92%C3%90%C2%BB%C3%91%C2%8F-%C3%90%C2%B4%C3%90%C2%BE-%C3%90%C2%BF%C3%91%E2%82%AC%C3%90%C2%BE%C3%90%C2%B4%C3%90%C2%B2%C3%90%C2%B8%C3%90%C2%BD%C3%91%C6%92%C3%91%E2%80%9A%C3%90%C2%BE%C3%90%C2%B3%C3%90%C2%BE-%C3%91%C6%92%C3%91%E2%82%AC%C3%90%C2%BE%C3%90%C2%B2%C3%90%C2%BD%C3%91%C2%8F', 'https://www.torrentdownloads.pro/torrent/1666871297/%5BFreeCourseLab-%5D-Udemy---Android-Q-App-Development-with-Kotlin-Beginner-to-Advanced', 'https://www.torrentdownloads.pro/torrent/1669252864/Complete-Android-Development-with-Kotlin-Masterclass-%5BUdemyLibrary-%5D']\n"
     ]
    }
   ],
   "source": []
  },
  {
   "cell_type": "code",
   "execution_count": null,
   "id": "87b0dc43-bfdd-4b79-be34-665807d657a7",
   "metadata": {},
   "outputs": [],
   "source": []
  }
 ],
 "metadata": {
  "kernelspec": {
   "display_name": "Python 3 (ipykernel)",
   "language": "python",
   "name": "python3"
  },
  "language_info": {
   "codemirror_mode": {
    "name": "ipython",
    "version": 3
   },
   "file_extension": ".py",
   "mimetype": "text/x-python",
   "name": "python",
   "nbconvert_exporter": "python",
   "pygments_lexer": "ipython3",
   "version": "3.11.2"
  }
 },
 "nbformat": 4,
 "nbformat_minor": 5
}
