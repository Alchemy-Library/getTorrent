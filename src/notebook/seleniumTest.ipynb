{
 "cells": [
  {
   "cell_type": "code",
   "execution_count": null,
   "id": "6730940f-b491-40f8-9b6a-aa1fd67d916f",
   "metadata": {},
   "outputs": [],
   "source": [
    "!pip3 install selenium"
   ]
  },
  {
   "cell_type": "code",
   "execution_count": 143,
   "id": "7eb33710-21b3-42fe-bc5a-1b0bb61a796e",
   "metadata": {},
   "outputs": [
    {
     "name": "stdout",
     "output_type": "stream",
     "text": [
      "0\n",
      "1\n",
      "2\n"
     ]
    }
   ],
   "source": [
    "import time\n",
    "from selenium import webdriver\n",
    "from selenium.webdriver.common.by import By\n",
    "from selenium.webdriver.common.keys import Keys\n",
    "\n",
    "driver = webdriver.Chrome()\n",
    "\n",
    "\n",
    "def openPage(page, sleep=1):\n",
    "    driver.get(page)\n",
    "    time.sleep(sleep)\n",
    "\n",
    "\n",
    "def getRow():\n",
    "    skip = 6\n",
    "    rows = driver.find_elements(By.CLASS_NAME, \"grey_bar3\")\n",
    "    return rows[skip: -1]\n",
    "    return rows\n",
    "\n",
    "\n",
    "def searchTorrents():\n",
    "    sch = \"https://www.torrentdownloads.pro/search/?search=kotlin+android\"\n",
    "    openPage(sch, 3)\n",
    "\n",
    "    torrent = []\n",
    "    for i, v in enumerate(getRow()):\n",
    "        a = v.find_elements(By.TAG_NAME, \"a\")\n",
    "        torrent.append(a[0].get_attribute('href'))\n",
    "    return torrent\n",
    "\n",
    "\n",
    "def countTabs():\n",
    "    handles = len(driver.window_handles)\n",
    "    return handles\n",
    "\n",
    "\n",
    "def newTab(max=99):\n",
    "    if countTabs() < max:\n",
    "        driver.switch_to.new_window('tab')\n",
    "\n",
    "\n",
    "def openTorrentPages(pages):\n",
    "    newTab(2)\n",
    "    for i in pages:\n",
    "        openPage(i, 2)\n",
    "        print(f\"{i} opened\")\n",
    "        if i > 5:\n",
    "            break\n",
    "\n",
    "\n",
    "def getDownloadLink():\n",
    "    download = driver.find_element(By.CLASS_NAME, \"download\")\n",
    "    link = download.find_elements(By.TAG_NAME, \"a\")[1]\n",
    "    return link.get_attribute('href')\n",
    "\n",
    "\n",
    "def getDownloadLinks(tors, max=50):\n",
    "    newTab(2)\n",
    "    links = []\n",
    "    for i, tor in enumerate(tors):\n",
    "        if i > (max - 1):\n",
    "            break\n",
    "        openPage(tor, 1)\n",
    "        links.append(getDownloadLink())\n",
    "        print(i)\n",
    "    return links\n",
    "\n",
    "\n",
    "if __name__ == '__main__':\n",
    "    tors = searchTorrents()\n",
    "    links = getDownloadLinks(tors, 3)\n",
    "    # print(links)"
   ]
  },
  {
   "cell_type": "code",
   "execution_count": 145,
   "id": "c1d07aac-ae30-4ac5-b8a3-76b5e9796048",
   "metadata": {},
   "outputs": [
    {
     "name": "stdout",
     "output_type": "stream",
     "text": [
      "['http://itorrents.org/torrent/6145B2D20B781AC313C4ED879EA1E51B743CC16C.torrent?title=kotlin-android-training---beginner-android-app-development', 'http://itorrents.org/torrent/8A5186104F335F99B5FF99D104A46AF3515B5D67.torrent?title=android-app-development-course-with-kotlin-android-a-z', 'http://itorrents.org/torrent/7EE0088210BD0294432EFF8AD0C1F98D2FF45C89.torrent?title=devcourseweb-com-udemy---tic-tac-toe-game-in-kotlin-android-app-development-studio']\n"
     ]
    }
   ],
   "source": [
    "print(links)\n"
   ]
  },
  {
   "cell_type": "code",
   "execution_count": null,
   "id": "fce6ef7d-d69d-44a9-a408-c2f29b39f7b8",
   "metadata": {},
   "outputs": [],
   "source": []
  }
 ],
 "metadata": {
  "kernelspec": {
   "display_name": "Python 3 (ipykernel)",
   "language": "python",
   "name": "python3"
  },
  "language_info": {
   "codemirror_mode": {
    "name": "ipython",
    "version": 3
   },
   "file_extension": ".py",
   "mimetype": "text/x-python",
   "name": "python",
   "nbconvert_exporter": "python",
   "pygments_lexer": "ipython3",
   "version": "3.11.2"
  }
 },
 "nbformat": 4,
 "nbformat_minor": 5
}
