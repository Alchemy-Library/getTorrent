{
 "cells": [
  {
   "cell_type": "code",
   "execution_count": null,
   "id": "6730940f-b491-40f8-9b6a-aa1fd67d916f",
   "metadata": {},
   "outputs": [],
   "source": [
    "!pip3 install selenium"
   ]
  },
  {
   "cell_type": "code",
   "execution_count": 75,
   "id": "7eb33710-21b3-42fe-bc5a-1b0bb61a796e",
   "metadata": {},
   "outputs": [],
   "source": [
    "import time\n",
    "from selenium import webdriver\n",
    "from selenium.webdriver.common.by import By\n",
    "from selenium.webdriver.common.keys import Keys\n",
    "\n",
    "driver = webdriver.Chrome()\n",
    "\n",
    "\n",
    "def openPage(page, sleep=3):\n",
    "    driver.get(page)\n",
    "    time.sleep(sleep)\n",
    "\n",
    "def getRow():\n",
    "    skip = 6\n",
    "    rows = driver.find_elements(By.CLASS_NAME, \"grey_bar3\")\n",
    "    return rows[skip: -1]\n",
    "    return rows\n",
    "\n",
    "def searchTorrents():\n",
    "    sch = \"https://www.torrentdownloads.pro/search/?search=kotlin+android\"\n",
    "    openPage(sch, 3)\n",
    "    \n",
    "    torrent = []\n",
    "    for i, v in enumerate(getRow()):\n",
    "        a = v.find_elements(By.TAG_NAME, \"a\")\n",
    "        torrent.append(a[0].get_attribute('href'))\n",
    "    return torrent\n",
    "\n",
    "pages = searchTorrents()"
   ]
  },
  {
   "cell_type": "code",
   "execution_count": null,
   "id": "36868927-aff7-4ddc-a49e-c9b76ecf422e",
   "metadata": {},
   "outputs": [],
   "source": [
    "def countTabs():\n",
    "    handles = len(driver.window_handles)\n",
    "    return handles\n",
    "\n",
    "def newTab(max=99):\n",
    "    if countTabs() < max:\n",
    "        driver.switch_to.new_window('tab')\n",
    "\n",
    "def openTorrentPage(pages):\n",
    "    newTab(2)\n",
    "    for i in pages:\n",
    "        openPage(i,2)\n",
    "        print(f\"{i} opened\")\n",
    "        if i > 5:\n",
    "            break\n",
    "\n",
    "openTorrentPage(pages)\n",
    "openPage(pages[3])"
   ]
  }
 ],
 "metadata": {
  "kernelspec": {
   "display_name": "Python 3 (ipykernel)",
   "language": "python",
   "name": "python3"
  },
  "language_info": {
   "codemirror_mode": {
    "name": "ipython",
    "version": 3
   },
   "file_extension": ".py",
   "mimetype": "text/x-python",
   "name": "python",
   "nbconvert_exporter": "python",
   "pygments_lexer": "ipython3",
   "version": "3.11.2"
  }
 },
 "nbformat": 4,
 "nbformat_minor": 5
}
